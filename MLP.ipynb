{
 "cells": [
  {
   "cell_type": "code",
   "execution_count": 1,
   "id": "0f086827",
   "metadata": {},
   "outputs": [],
   "source": [
    "import numpy as np\n",
    "import torch\n",
    "import torch.nn.functional as F\n",
    "import matplotlib.pyplot as plt\n",
    "get_ipython().run_line_magic('matplotlib', 'inline')"
   ]
  },
  {
   "cell_type": "code",
   "execution_count": 3,
   "id": "6206f0d7",
   "metadata": {},
   "outputs": [
    {
     "data": {
      "text/plain": [
       "['emma', 'olivia', 'ava', 'isabella', 'sophia']"
      ]
     },
     "execution_count": 3,
     "metadata": {},
     "output_type": "execute_result"
    }
   ],
   "source": [
    "names = open(\"names.txt\", \"r\").read().split()\n",
    "names[:5]"
   ]
  },
  {
   "cell_type": "code",
   "execution_count": 11,
   "id": "010ccd30",
   "metadata": {},
   "outputs": [
    {
     "name": "stdout",
     "output_type": "stream",
     "text": [
      "['a', 'b', 'c', 'd', 'e', 'f', 'g', 'h', 'i', 'j', 'k', 'l', 'm', 'n', 'o', 'p', 'q', 'r', 's', 't', 'u', 'v', 'w', 'x', 'y', 'z']\n",
      "\n",
      "{'a': 1, 'b': 2, 'c': 3, 'd': 4, 'e': 5, 'f': 6, 'g': 7, 'h': 8, 'i': 9, 'j': 10, 'k': 11, 'l': 12, 'm': 13, 'n': 14, 'o': 15, 'p': 16, 'q': 17, 'r': 18, 's': 19, 't': 20, 'u': 21, 'v': 22, 'w': 23, 'x': 24, 'y': 25, 'z': 26, '.': 0}\n",
      "\n",
      "{1: 'a', 2: 'b', 3: 'c', 4: 'd', 5: 'e', 6: 'f', 7: 'g', 8: 'h', 9: 'i', 10: 'j', 11: 'k', 12: 'l', 13: 'm', 14: 'n', 15: 'o', 16: 'p', 17: 'q', 18: 'r', 19: 's', 20: 't', 21: 'u', 22: 'v', 23: 'w', 24: 'x', 25: 'y', 26: 'z', 0: '.'}\n"
     ]
    }
   ],
   "source": [
    "# build the vocabulary of characters and mappings to/from integers\n",
    "chars = sorted(list(set(''.join(names))))\n",
    "charToInt = {s:i+1 for i, s in enumerate(chars)}\n",
    "charToInt['.'] = 0\n",
    "\n",
    "intToChar = {i:s for s, i in charToInt.items()}\n",
    "\n",
    "print(f\"{chars}\\n\\n{charToInt}\\n\\n{intToChar}\")"
   ]
  },
  {
   "cell_type": "code",
   "execution_count": 55,
   "id": "2ec5215f",
   "metadata": {},
   "outputs": [
    {
     "data": {
      "text/plain": [
       "(tensor([[ 0,  0,  0],\n",
       "         [ 0,  0,  5],\n",
       "         [ 0,  5,  2],\n",
       "         ...,\n",
       "         [18,  5, 12],\n",
       "         [ 5, 12,  9],\n",
       "         [12,  9,  1]]),\n",
       " tensor([ 5,  2, 18,  ...,  9,  1,  0]))"
      ]
     },
     "execution_count": 55,
     "metadata": {},
     "output_type": "execute_result"
    }
   ],
   "source": [
    "# build the dataset\n",
    "\n",
    "block_size = 3\n",
    "X, Y = [], []\n",
    "\n",
    "for name in names:\n",
    "    context = [0] * block_size\n",
    "    \n",
    "    for char in name + '.':\n",
    "        index = charToInt[char]\n",
    "        X.append(context)\n",
    "        Y.append(index)\n",
    "        context = context[1:] + [index]\n",
    "        \n",
    "X = torch.tensor(X)\n",
    "Y = torch.tensor(Y)\n",
    "\n",
    "# X is inputs, Y is outputs\n",
    "X, Y"
   ]
  },
  {
   "cell_type": "code",
   "execution_count": 56,
   "id": "3dabfe38",
   "metadata": {},
   "outputs": [
    {
     "data": {
      "text/plain": [
       "(torch.Size([228146, 3]), torch.Size([228146]))"
      ]
     },
     "execution_count": 56,
     "metadata": {},
     "output_type": "execute_result"
    }
   ],
   "source": [
    "X.shape, Y.shape"
   ]
  },
  {
   "cell_type": "code",
   "execution_count": 68,
   "id": "a42f4391",
   "metadata": {},
   "outputs": [],
   "source": [
    "# Construct the network\n",
    "\n",
    "g = torch.Generator().manual_seed(3528942) # for reproducibility\n",
    "embedMatrix = torch.randn((27, 2))\n",
    "layer1 = torch.randn((6, 100), generator=g)\n",
    "b1 = torch.randn(100, generator=g)\n",
    "layer2 = torch.randn((100, 27), generator=g)\n",
    "b2 = torch.randn(27, generator=g)\n",
    "\n",
    "parameters = [embedMatrix, layer1, b1, layer2, b2]"
   ]
  },
  {
   "cell_type": "code",
   "execution_count": 69,
   "id": "d003596b",
   "metadata": {},
   "outputs": [
    {
     "data": {
      "text/plain": [
       "3481"
      ]
     },
     "execution_count": 69,
     "metadata": {},
     "output_type": "execute_result"
    }
   ],
   "source": [
    "sum(p.nelement() for p in parameters)"
   ]
  },
  {
   "cell_type": "code",
   "execution_count": 70,
   "id": "e15ab138",
   "metadata": {},
   "outputs": [],
   "source": [
    "for p in parameters:\n",
    "    p.requires_grad = True"
   ]
  },
  {
   "cell_type": "code",
   "execution_count": 71,
   "id": "db2b2013",
   "metadata": {},
   "outputs": [
    {
     "name": "stdout",
     "output_type": "stream",
     "text": [
      "2.577638864517212\n"
     ]
    }
   ],
   "source": [
    "for _ in range(30000):\n",
    "    \n",
    "    # minibatch construct\n",
    "    ix = torch.randint(0, X.shape[0], (32,))\n",
    "    \n",
    "    # forward pass\n",
    "    emb = embedMatrix[X[ix]] # 32, 3, 2\n",
    "    h = torch.tanh(emb.view(-1, 6) @ layer1 + b1) # -1 in the view means emb.shape(0)\n",
    "    logits = h @ layer2 + b2\n",
    "    negLossLikelihood = F.cross_entropy(logits, Y[ix])\n",
    "    \n",
    "    # backward pass\n",
    "    for p in parameters:\n",
    "        p.grad = None\n",
    "    negLossLikelihood.backward()\n",
    "\n",
    "    # update\n",
    "    for p in parameters:\n",
    "        p.data += -0.1 * p.grad\n",
    "        \n",
    "print(negLossLikelihood.item())"
   ]
  },
  {
   "cell_type": "markdown",
   "id": "64153001",
   "metadata": {},
   "source": [
    "### The above network is okay, but it can be improved by decaying the learning rate. Let us discern what might be a good range/value to decay by."
   ]
  },
  {
   "cell_type": "code",
   "execution_count": 72,
   "id": "d2b408d5",
   "metadata": {},
   "outputs": [],
   "source": [
    "# Creating values for visualising the learning rate\n",
    "\n",
    "learnRatesExp = torch.linspace(-3, -0.05, 1000)\n",
    "learnRates = 10**learnRatesExp"
   ]
  },
  {
   "cell_type": "code",
   "execution_count": 73,
   "id": "ae9ad3b0",
   "metadata": {},
   "outputs": [],
   "source": [
    "lrs = []\n",
    "lri = []"
   ]
  },
  {
   "cell_type": "code",
   "execution_count": 74,
   "id": "027ac19c",
   "metadata": {},
   "outputs": [
    {
     "name": "stdout",
     "output_type": "stream",
     "text": [
      "5.565164566040039\n"
     ]
    }
   ],
   "source": [
    "for i in range(1000):\n",
    "    \n",
    "    # minibatch construct\n",
    "    ix = torch.randint(0, X.shape[0], (32,))\n",
    "    \n",
    "    # forward pass\n",
    "    emb = embedMatrix[X[ix]] # 32, 3, 2\n",
    "    h = torch.tanh(emb.view(-1, 6) @ layer1 + b1) # -1 in the view means emb.shape(0)\n",
    "    logits = h @ layer2 + b2\n",
    "    negLossLikelihood = F.cross_entropy(logits, Y[ix])\n",
    "    \n",
    "    lrs.append(negLossLikelihood.item())\n",
    "    lri.append(-learnRates[i])\n",
    "    \n",
    "    # backward pass\n",
    "    for p in parameters:\n",
    "        p.grad = None\n",
    "    negLossLikelihood.backward()\n",
    "\n",
    "    # update\n",
    "    for p in parameters:\n",
    "        p.data += -learnRates[i] * p.grad\n",
    "        \n",
    "print(negLossLikelihood.item())"
   ]
  },
  {
   "cell_type": "code",
   "execution_count": 75,
   "id": "ae9cc0b0",
   "metadata": {},
   "outputs": [
    {
     "data": {
      "text/plain": [
       "[<matplotlib.lines.Line2D at 0x11ff6f490>]"
      ]
     },
     "execution_count": 75,
     "metadata": {},
     "output_type": "execute_result"
    },
    {
     "data": {
      "image/png": "[encoded data removed]",
      "text/plain": [
       "<Figure size 640x480 with 1 Axes>"
      ]
     },
     "metadata": {},
     "output_type": "display_data"
    }
   ],
   "source": [
    "plt.plot(lri, lrs)"
   ]
  },
  {
   "cell_type": "markdown",
   "id": "58e87071",
   "metadata": {},
   "source": [
    "### From the above graph, we can see that a learning rate of about -0.1/-0.15 is optimal (we were right first time). It is then from this value that we have the option to decay - I am not going to, however."
   ]
  },
  {
   "cell_type": "code",
   "execution_count": 76,
   "id": "54516616",
   "metadata": {},
   "outputs": [],
   "source": [
    "# Construct the network\n",
    "\n",
    "g = torch.Generator().manual_seed(3528942) # for reproducibility\n",
    "embedMatrix = torch.randn((27, 2))\n",
    "layer1 = torch.randn((6, 100), generator=g)\n",
    "b1 = torch.randn(100, generator=g)\n",
    "layer2 = torch.randn((100, 27), generator=g)\n",
    "b2 = torch.randn(27, generator=g)\n",
    "\n",
    "parameters = [embedMatrix, layer1, b1, layer2, b2]"
   ]
  },
  {
   "cell_type": "code",
   "execution_count": 78,
   "id": "bc083ec6",
   "metadata": {},
   "outputs": [],
   "source": [
    "for p in parameters:\n",
    "    p.requires_grad = True"
   ]
  },
  {
   "cell_type": "code",
   "execution_count": 79,
   "id": "3b67ede2",
   "metadata": {},
   "outputs": [
    {
     "name": "stdout",
     "output_type": "stream",
     "text": [
      "2.348081111907959\n"
     ]
    }
   ],
   "source": [
    "learnRate = 0.1\n",
    "\n",
    "for _ in range(30000):\n",
    "    \n",
    "    # minibatch construct\n",
    "    ix = torch.randint(0, X.shape[0], (32,))\n",
    "    \n",
    "    # forward pass\n",
    "    emb = embedMatrix[X[ix]] # 32, 3, 2\n",
    "    h = torch.tanh(emb.view(-1, 6) @ layer1 + b1) # -1 in the view means emb.shape(0)\n",
    "    logits = h @ layer2 + b2\n",
    "    negLossLikelihood = F.cross_entropy(logits, Y[ix])\n",
    "    \n",
    "    # backward pass\n",
    "    for p in parameters:\n",
    "        p.grad = None\n",
    "    negLossLikelihood.backward()\n",
    "\n",
    "    # update\n",
    "    for p in parameters:\n",
    "        p.data += -learnRate * p.grad\n",
    "        \n",
    "print(negLossLikelihood.item())"
   ]
  },
  {
   "cell_type": "markdown",
   "id": "7b08398a",
   "metadata": {},
   "source": [
    "### This is a better value. Now, I am going to look to split the data up into training, hyperparameter training, and testing (80%/10%/10% respectively)."
   ]
  },
  {
   "cell_type": "code",
   "execution_count": 80,
   "id": "8d8aa8b6",
   "metadata": {},
   "outputs": [
    {
     "data": {
      "text/plain": [
       "(tensor([[ 0,  0,  0],\n",
       "         [ 0,  0, 20],\n",
       "         [ 0, 20,  1],\n",
       "         ...,\n",
       "         [25,  5, 14],\n",
       "         [ 5, 14, 14],\n",
       "         [14, 14,  1]]),\n",
       " tensor([20,  1, 21,  ..., 14,  1,  0]))"
      ]
     },
     "execution_count": 80,
     "metadata": {},
     "output_type": "execute_result"
    }
   ],
   "source": [
    "def build_dataset(names):\n",
    "    block_size = 3\n",
    "    X, Y = [], []\n",
    "    for name in names:\n",
    "        context = [0] * block_size\n",
    "\n",
    "        for char in name + '.':\n",
    "            index = charToInt[char]\n",
    "            X.append(context)\n",
    "            Y.append(index)\n",
    "            context = context[1:] + [index]\n",
    "\n",
    "    X = torch.tensor(X)\n",
    "    Y = torch.tensor(Y)\n",
    "    return X, Y\n",
    "\n",
    "import random\n",
    "random.seed(42)\n",
    "random.shuffle(names)\n",
    "\n",
    "n1 = int(0.8 * len(names))\n",
    "n2 = int(0.9 * len(names))\n",
    "\n",
    "Xtrain, Ytrain = build_dataset(names[:n1])\n",
    "Xdev, Ydev = build_dataset(names[:n2])\n",
    "Xtest, Ytest = build_dataset(names[n2:])\n",
    "\n",
    "Xtrain, Ytrain"
   ]
  },
  {
   "cell_type": "markdown",
   "id": "b01ef2c4",
   "metadata": {},
   "source": [
    "### Now, we take the same network model from before, but train it on the xtrain dataset."
   ]
  },
  {
   "cell_type": "code",
   "execution_count": 81,
   "id": "45af9a2c",
   "metadata": {},
   "outputs": [],
   "source": [
    "g = torch.Generator().manual_seed(3528942) # for reproducibility\n",
    "embedMatrix = torch.randn((27, 2))\n",
    "layer1 = torch.randn((6, 100), generator=g)\n",
    "b1 = torch.randn(100, generator=g)\n",
    "layer2 = torch.randn((100, 27), generator=g)\n",
    "b2 = torch.randn(27, generator=g)\n",
    "\n",
    "parameters = [embedMatrix, layer1, b1, layer2, b2]"
   ]
  },
  {
   "cell_type": "code",
   "execution_count": 82,
   "id": "d6c46cc9",
   "metadata": {},
   "outputs": [],
   "source": [
    "for p in parameters:\n",
    "    p.requires_grad = True"
   ]
  },
  {
   "cell_type": "code",
   "execution_count": 83,
   "id": "7e3318ec",
   "metadata": {},
   "outputs": [
    {
     "name": "stdout",
     "output_type": "stream",
     "text": [
      "2.4156508445739746\n"
     ]
    }
   ],
   "source": [
    "learnRate = 0.1\n",
    "\n",
    "for _ in range(30000):\n",
    "    \n",
    "    # minibatch construct\n",
    "    ix = torch.randint(0, Xtrain.shape[0], (32,))\n",
    "    \n",
    "    # forward pass\n",
    "    emb = embedMatrix[Xtrain[ix]] # 32, 3, 2\n",
    "    h = torch.tanh(emb.view(-1, 6) @ layer1 + b1) # -1 in the view means emb.shape(0)\n",
    "    logits = h @ layer2 + b2\n",
    "    negLossLikelihood = F.cross_entropy(logits, Ytrain[ix])\n",
    "    \n",
    "    # backward pass\n",
    "    for p in parameters:\n",
    "        p.grad = None\n",
    "    negLossLikelihood.backward()\n",
    "\n",
    "    # update\n",
    "    for p in parameters:\n",
    "        p.data += -learnRate * p.grad\n",
    "        \n",
    "print(negLossLikelihood.item())"
   ]
  },
  {
   "cell_type": "code",
   "execution_count": 84,
   "id": "90280fa1",
   "metadata": {},
   "outputs": [
    {
     "data": {
      "text/plain": [
       "2.4185893535614014"
      ]
     },
     "execution_count": 84,
     "metadata": {},
     "output_type": "execute_result"
    }
   ],
   "source": [
    "emb = embedMatrix[Xdev]\n",
    "h = torch.tanh(emb.view(-1, 6) @ layer1 + b1)\n",
    "logits = h @ layer2 + b2\n",
    "loss = F.cross_entropy(logits, Ydev)\n",
    "loss.item()"
   ]
  },
  {
   "cell_type": "markdown",
   "id": "b08fbbc1",
   "metadata": {},
   "source": [
    "### From the fact that the loss value for the training and the development datasets are very similar, we can tell that we are *underfitting* this network; it is not yet powerful enough to overfit.\n",
    " \n",
    "### What this typically means, is that the network - currently 3481 parameters - is simply too small.\n",
    " \n",
    "### We can thus add more parameters to the network, and be quite confident that this will improve the performance of it instantly. "
   ]
  },
  {
   "cell_type": "code",
   "execution_count": 85,
   "id": "632dd054",
   "metadata": {},
   "outputs": [],
   "source": [
    "# Changing middle layer length from 100 to 300\n",
    "\n",
    "g = torch.Generator().manual_seed(3528942) # for reproducibility\n",
    "embedMatrix = torch.randn((27, 2))\n",
    "layer1 = torch.randn((6, 300), generator=g)\n",
    "b1 = torch.randn(300, generator=g)\n",
    "layer2 = torch.randn((300, 27), generator=g)\n",
    "b2 = torch.randn(27, generator=g)\n",
    "\n",
    "parameters = [embedMatrix, layer1, b1, layer2, b2]"
   ]
  },
  {
   "cell_type": "code",
   "execution_count": 86,
   "id": "b38b938b",
   "metadata": {},
   "outputs": [],
   "source": [
    "for p in parameters:\n",
    "    p.requires_grad = True"
   ]
  },
  {
   "cell_type": "code",
   "execution_count": 88,
   "id": "664e4986",
   "metadata": {},
   "outputs": [
    {
     "name": "stdout",
     "output_type": "stream",
     "text": [
      "1.9615817070007324\n"
     ]
    }
   ],
   "source": [
    "learnRate = 0.1\n",
    "for _ in range(30000):\n",
    "    \n",
    "    # minibatch construct\n",
    "    ix = torch.randint(0, Xtrain.shape[0], (32,))\n",
    "    \n",
    "    # forward pass\n",
    "    emb = embedMatrix[Xtrain[ix]] # 32, 3, 2\n",
    "    h = torch.tanh(emb.view(-1, 6) @ layer1 + b1)\n",
    "    logits = h @ layer2 + b2\n",
    "    negLossLikelihood = F.cross_entropy(logits, Ytrain[ix])\n",
    "    \n",
    "    # backward pass\n",
    "    for p in parameters:\n",
    "        p.grad = None\n",
    "    negLossLikelihood.backward()\n",
    "\n",
    "    # update\n",
    "    for p in parameters:\n",
    "        p.data += -learnRate * p.grad\n",
    "        \n",
    "print(negLossLikelihood.item())"
   ]
  },
  {
   "cell_type": "markdown",
   "id": "fcb0e82f",
   "metadata": {},
   "source": [
    "### This shows that increasing the model size lead to a direct improvement in the loss rate.\n",
    "\n",
    "### We can visualise the networks representation of the letters: the vowels are clustered together, and v, r, q and y seem to be less important as they are farther away from the action."
   ]
  },
  {
   "cell_type": "code",
   "execution_count": 89,
   "id": "7ca9342a",
   "metadata": {},
   "outputs": [
    {
     "data": {
      "image/png": "[encoded data removed]",
      "text/plain": [
       "<Figure size 800x800 with 1 Axes>"
      ]
     },
     "metadata": {},
     "output_type": "display_data"
    }
   ],
   "source": [
    "plt.figure(figsize=(8,8))\n",
    "plt.scatter(embedMatrix[:,0].data, embedMatrix[:,1].data, s=200)\n",
    "for i in range(embedMatrix.shape[0]):\n",
    "    plt.text(embedMatrix[i,0].item(), embedMatrix[i,1].item(), intToChar[i], ha=\"center\", va=\"center\", color=\"white\")\n",
    "plt.grid('minor')"
   ]
  },
  {
   "cell_type": "markdown",
   "id": "49063fe0",
   "metadata": {},
   "source": [
    "### Next step would be to rearrange the code into objects, as there is a lot of redundant, repeating code here. But this is nice as a first attempt."
   ]
  },
  {
   "cell_type": "code",
   "execution_count": null,
   "id": "d1dedaac",
   "metadata": {},
   "outputs": [],
   "source": []
  }
 ],
 "metadata": {
  "kernelspec": {
   "display_name": "Python 3 (ipykernel)",
   "language": "python",
   "name": "python3"
  },
  "language_info": {
   "codemirror_mode": {
    "name": "ipython",
    "version": 3
   },
   "file_extension": ".py",
   "mimetype": "text/x-python",
   "name": "python",
   "nbconvert_exporter": "python",
   "pygments_lexer": "ipython3",
   "version": "3.11.3"
  }
 },
 "nbformat": 4,
 "nbformat_minor": 5
}
